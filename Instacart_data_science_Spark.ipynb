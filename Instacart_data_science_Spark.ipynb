{
 "cells": [
  {
   "cell_type": "markdown",
   "metadata": {},
   "source": [
    "## Library Import"
   ]
  },
  {
   "cell_type": "code",
   "execution_count": 12,
   "metadata": {},
   "outputs": [],
   "source": [
    "import pandas as pd\n",
    "import pyspark\n",
    "from pyspark.sql import SparkSession\n",
    "import matplotlib.pyplot as plt\n",
    "from matplotlib.ticker import FuncFormatter\n",
    "import math\n",
    "from pyspark.ml.regression import LinearRegression\n",
    "from pyspark.ml.linalg import Vectors\n",
    "from pyspark.ml.feature import VectorAssembler"
   ]
  },
  {
   "cell_type": "markdown",
   "metadata": {},
   "source": [
    "## Load CSV Data"
   ]
  },
  {
   "cell_type": "code",
   "execution_count": 13,
   "metadata": {},
   "outputs": [],
   "source": [
    "aisle = pd.read_csv('aisles.csv')\n",
    "departments = pd.read_csv('departments.csv')\n",
    "products = pd.read_csv('products.csv')\n",
    "orders = pd.read_csv('orders.csv')\n",
    "train = pd.read_csv('order_train.csv')"
   ]
  },
  {
   "cell_type": "markdown",
   "metadata": {},
   "source": [
    "## Analyse in Spark"
   ]
  },
  {
   "cell_type": "code",
   "execution_count": 14,
   "metadata": {},
   "outputs": [],
   "source": [
    "#Spark Initiation\n",
    "spark = SparkSession.builder \\\n",
    "        .master(\"local[*]\") \\\n",
    "        .appName(\"InstacartData\") \\\n",
    "        .getOrCreate()"
   ]
  },
  {
   "cell_type": "markdown",
   "metadata": {},
   "source": [
    "## Loading Pandas df into Spark DF"
   ]
  },
  {
   "cell_type": "code",
   "execution_count": 15,
   "metadata": {},
   "outputs": [],
   "source": [
    "df_aisle = spark.createDataFrame(aisle)\n",
    "df_departments = spark.createDataFrame(departments)\n",
    "df_products = spark.createDataFrame(products)\n",
    "df_orders = spark.createDataFrame(orders)\n",
    "df_train = spark.createDataFrame(train)"
   ]
  },
  {
   "cell_type": "code",
   "execution_count": 16,
   "metadata": {},
   "outputs": [],
   "source": [
    "%matplotlib inline"
   ]
  },
  {
   "cell_type": "code",
   "execution_count": 17,
   "metadata": {},
   "outputs": [
    {
     "name": "stdout",
     "output_type": "stream",
     "text": [
      "root\n",
      " |-- order_id: long (nullable = true)\n",
      " |-- product_id: long (nullable = true)\n",
      " |-- add_to_cart_order: long (nullable = true)\n",
      " |-- reordered: long (nullable = true)\n",
      "\n"
     ]
    }
   ],
   "source": [
    "df_train.printSchema()"
   ]
  },
  {
   "cell_type": "markdown",
   "metadata": {},
   "source": [
    "######   Q1.)  What hour of day do people usually order from Instacart?"
   ]
  },
  {
   "cell_type": "code",
   "execution_count": 18,
   "metadata": {},
   "outputs": [],
   "source": [
    "#Method:\n",
    "#SELECT order_hour_of_day, count(order_id)\n",
    "#FROM orders\n",
    "#GROUP BY order_hour_of_day\n",
    "#ORDER BY order_hour_of_day"
   ]
  },
  {
   "cell_type": "code",
   "execution_count": 19,
   "metadata": {},
   "outputs": [],
   "source": [
    "hours = df_orders.groupBy(df_orders.order_hour_of_day) \\\n",
    "        .count() \\\n",
    "        .sort(df_orders.order_hour_of_day) \\\n",
    "        .toPandas()"
   ]
  },
  {
   "cell_type": "code",
   "execution_count": 20,
   "metadata": {},
   "outputs": [
    {
     "data": {
      "image/png": "[encoded data removed]",
      "text/plain": [
       "<Figure size 432x288 with 1 Axes>"
      ]
     },
     "metadata": {
      "needs_background": "light"
     },
     "output_type": "display_data"
    }
   ],
   "source": [
    "hour_sum = hours['count'].sum()\n",
    "hours['count'] /= hour_sum\n",
    "hour_plot = hours['count'].plot(kind='bar', color = 'yellow', edgecolor = 'blue')\n",
    "hour_plot.set_ylabel(\"Order Percentage\")\n",
    "hour_plot.set_xlabel(\"Hour of Day\")\n",
    "hour_plot.yaxis.set_major_formatter(FuncFormatter(lambda y, _: '{:.0%}'\n",
    "                                                  .format(y)))"
   ]
  },
  {
   "cell_type": "markdown",
   "metadata": {},
   "source": [
    "###### Q2.) What day of week do people usually order from Instacart?"
   ]
  },
  {
   "cell_type": "code",
   "execution_count": 21,
   "metadata": {},
   "outputs": [],
   "source": [
    "#Method:\n",
    "#SELECT order_dow, count(order_id)\n",
    "#FROM orders\n",
    "#GROUP BY order_dow\n",
    "#ORDER BY order_dow"
   ]
  },
  {
   "cell_type": "code",
   "execution_count": 22,
   "metadata": {},
   "outputs": [],
   "source": [
    "day_week = df_orders.groupBy(df_orders.order_dow) \\\n",
    "           .count() \\\n",
    "           .sort(df_orders.order_dow) \\\n",
    "           .toPandas()"
   ]
  },
  {
   "cell_type": "code",
   "execution_count": 23,
   "metadata": {},
   "outputs": [],
   "source": [
    "def week(nday):\n",
    "    return{\n",
    "        0:'sat',\n",
    "        1:'sun',\n",
    "        2:'mon',\n",
    "        3:'tue',\n",
    "        4:'wed',\n",
    "        5:'thu',\n",
    "        6:'fri',\n",
    "    }.get(nday, 'nan')"
   ]
  },
  {
   "cell_type": "code",
   "execution_count": 24,
   "metadata": {},
   "outputs": [
    {
     "data": {
      "image/png": "[encoded data removed]",
      "text/plain": [
       "<Figure size 432x288 with 1 Axes>"
      ]
     },
     "metadata": {
      "needs_background": "light"
     },
     "output_type": "display_data"
    }
   ],
   "source": [
    "day_sum = day_week['count'].sum()\n",
    "day_week['count'] /= day_sum\n",
    "day_plot = day_week['count'].plot(kind='bar', color = 'red', edgecolor = 'black')\n",
    "day_plot.set_ylabel(\"Order Percentage\")\n",
    "day_plot.set_xlabel(\"Day of Week\")\n",
    "day_plot.yaxis.set_major_formatter(FuncFormatter(lambda y, _: '{:.0%}'.format(y)))\n",
    "day_plot.xaxis.set_major_formatter(FuncFormatter(lambda x, _: week(x)))"
   ]
  },
  {
   "cell_type": "markdown",
   "metadata": {},
   "source": [
    "###### Q3.) How often do users order again?"
   ]
  },
  {
   "cell_type": "code",
   "execution_count": 25,
   "metadata": {},
   "outputs": [],
   "source": [
    "#Method:\n",
    "#SELECT days_since_prior_order, count(order_id)\n",
    "#FROM orders\n",
    "#GROUP BY days_since_prior_order\n",
    "#ORDER BY days_since_prior_order"
   ]
  },
  {
   "cell_type": "code",
   "execution_count": 26,
   "metadata": {},
   "outputs": [],
   "source": [
    "reorder = df_orders.groupBy(df_orders.days_since_prior_order) \\\n",
    "          .count() \\\n",
    "          .sort(df_orders.days_since_prior_order) \\\n",
    "          .toPandas()"
   ]
  },
  {
   "cell_type": "code",
   "execution_count": 27,
   "metadata": {},
   "outputs": [
    {
     "data": {
      "image/png": "[encoded data removed]",
      "text/plain": [
       "<Figure size 432x288 with 1 Axes>"
      ]
     },
     "metadata": {
      "needs_background": "light"
     },
     "output_type": "display_data"
    }
   ],
   "source": [
    "reorder_sum = reorder['count'].sum()\n",
    "reorder['count'] /= reorder_sum\n",
    "reorder_plot = reorder['count'].plot(kind='bar', color='pink', edgecolor='blue')\n",
    "reorder_plot.set_ylabel(\"Order Percentage\")\n",
    "reorder_plot.set_xlabel(\"Days Since Prior Order\")\n",
    "reorder_plot.yaxis.set_major_formatter(FuncFormatter(lambda y, _: '{:.0%}'.format(y)))"
   ]
  },
  {
   "cell_type": "markdown",
   "metadata": {},
   "source": [
    "###### Q4.) How many times do users order?"
   ]
  },
  {
   "cell_type": "code",
   "execution_count": 28,
   "metadata": {},
   "outputs": [],
   "source": [
    "#SELECT user_id, max(order_number)"
   ]
  },
  {
   "cell_type": "code",
   "execution_count": 29,
   "metadata": {},
   "outputs": [],
   "source": [
    "orders_count = df_orders.groupBy(df_orders.user_id) \\\n",
    "               .agg({\"order_number\":\"max\"}) \\\n",
    "               .withColumnRenamed('max(order_number)','total_orders') \\\n",
    "               .selectExpr('10 * FLOOR(total_orders/10.0)', 'user_id') \\\n",
    "               .toDF('total_orders_cat', 'user_id') \\\n",
    "               .groupBy('total_orders_cat') \\\n",
    "               .count() \\\n",
    "               .sort('total_orders_cat')\\\n",
    "               .toPandas()"
   ]
  },
  {
   "cell_type": "code",
   "execution_count": 30,
   "metadata": {},
   "outputs": [],
   "source": [
    "def formatTotalOrders(x):\n",
    "    real_x = x * 10\n",
    "    return {\n",
    "        0: '(0,10)',\n",
    "        100: '[100,inf)',\n",
    "    }.get(real_x, '[%d,%d)' % (real_x, real_x+10))"
   ]
  },
  {
   "cell_type": "code",
   "execution_count": 31,
   "metadata": {},
   "outputs": [
    {
     "data": {
      "image/png": "[encoded data removed]",
      "text/plain": [
       "<Figure size 432x288 with 1 Axes>"
      ]
     },
     "metadata": {
      "needs_background": "light"
     },
     "output_type": "display_data"
    }
   ],
   "source": [
    "times_sum = orders_count['count'].sum()\n",
    "orders_count['count'] /= times_sum\n",
    "times_plot = orders_count.plot(kind='bar', x='total_orders_cat', y ='count', \n",
    "                               color ='Green', edgecolor='red' ,legend=False)\n",
    "times_plot.set_ylabel(\"User Percentage\")\n",
    "times_plot.set_xlabel(\"Total Number of Orders\")\n",
    "times_plot.yaxis.set_major_formatter(FuncFormatter(lambda y, _: '{:.0%}'.format(y)))\n",
    "times_plot.xaxis.set_major_formatter(FuncFormatter(lambda x, _: formatTotalOrders(x)))"
   ]
  },
  {
   "cell_type": "markdown",
   "metadata": {},
   "source": [
    "###### Q5.) What are the most popular groceries?"
   ]
  },
  {
   "cell_type": "code",
   "execution_count": 32,
   "metadata": {},
   "outputs": [],
   "source": [
    "#SELECT TOP (15) * FROM\n",
    "#SELECT product_name, COUNT(order_id) as count FROM order_products\n",
    "#JOIN products ON order_products.product_id = products.product_id\n",
    "#GROUPBY products.product_id\n",
    "#ORDER BY count"
   ]
  },
  {
   "cell_type": "code",
   "execution_count": 33,
   "metadata": {},
   "outputs": [],
   "source": [
    "# Find Product IDs of Top 15 BestSelling Products\n",
    "top15 = df_train.groupBy(df_train.product_id) \\\n",
    "    .count() \\\n",
    "    .sort('count', ascending=False) \\\n",
    "    .limit(15)\n",
    "# Find Product Names    \n",
    "top15 = top15.join(df_products, df_products.product_id == top15.product_id) \\\n",
    "    .select('product_name', 'count') \\\n",
    "    .sort('count', ascending=False) \\\n",
    "    .toPandas()"
   ]
  },
  {
   "cell_type": "code",
   "execution_count": 34,
   "metadata": {},
   "outputs": [],
   "source": [
    "total_orders = df_train.select('order_id').distinct().count()"
   ]
  },
  {
   "cell_type": "code",
   "execution_count": 35,
   "metadata": {},
   "outputs": [],
   "source": [
    "def fpn(i):\n",
    "    return top15.product_name[i]"
   ]
  },
  {
   "cell_type": "code",
   "execution_count": 36,
   "metadata": {},
   "outputs": [
    {
     "data": {
      "image/png": "[encoded data removed]",
      "text/plain": [
       "<Figure size 432x288 with 1 Axes>"
      ]
     },
     "metadata": {
      "needs_background": "light"
     },
     "output_type": "display_data"
    }
   ],
   "source": [
    "top15['count'] /= total_orders\n",
    "top15_plot = top15.plot(kind='bar', color = 'lime',edgecolor='fuchsia', legend=False)\n",
    "top15_plot.set_ylabel(\"Order Percentage\")\n",
    "top15_plot.set_xlabel(\"Product Name\")\n",
    "top15_plot.yaxis.set_major_formatter(FuncFormatter(lambda y, _: '{:.0%}'.format(y)))\n",
    "top15_plot.xaxis.set_major_formatter(FuncFormatter(lambda x, _: fpn(x)))"
   ]
  },
  {
   "cell_type": "markdown",
   "metadata": {},
   "source": [
    "###### Q6.) What aisles are reordered most often?"
   ]
  },
  {
   "cell_type": "code",
   "execution_count": 37,
   "metadata": {},
   "outputs": [],
   "source": [
    "#SELECT TOP (15) * FROM\n",
    "#SELECT aisle, mean(reordered) as reorder_ratio\n",
    "#FROM order_products\n",
    "#JOIN products ON order_products.product_id = products.product_id\n",
    "#JOIN aisles ON products.aisle_id = aisles.aisle_id\n",
    "#GROUPBY aisle\n",
    "#ORDER BY reorder_ratio"
   ]
  },
  {
   "cell_type": "code",
   "execution_count": 38,
   "metadata": {},
   "outputs": [
    {
     "name": "stdout",
     "output_type": "stream",
     "text": [
      "root\n",
      " |-- product_id: long (nullable = true)\n",
      " |-- product_name: string (nullable = true)\n",
      " |-- aisle_id: long (nullable = true)\n",
      " |-- department_id: long (nullable = true)\n",
      "\n"
     ]
    }
   ],
   "source": [
    "df_products.printSchema()"
   ]
  },
  {
   "cell_type": "code",
   "execution_count": 41,
   "metadata": {},
   "outputs": [],
   "source": [
    "reorder_rate = df_train.join(df_products, df_products.product_id == df_train.product_id) \\\n",
    "            .groupBy('aisle_id') \\\n",
    "            .agg({\"reordered\":\"mean\"}) \\\n",
    "            .withColumnRenamed('avg(reordered)', 'reorder_rate') \\\n",
    "            .sort('reorder_rate', ascending=False) \\\n",
    "            .limit(15)\n",
    "reorder_result=reorder_rate.join(df_aisle, df_aisle.aisle_id == reorder_rate.aisle_id) \\\n",
    "    .select('aisle', 'reorder_rate') \\\n",
    "    .sort('reorder_rate', ascending=False) \\\n",
    "    .toPandas()"
   ]
  },
  {
   "cell_type": "code",
   "execution_count": 42,
   "metadata": {},
   "outputs": [],
   "source": [
    "def fan(i):\n",
    "    return reorder_result.aisle[i]"
   ]
  },
  {
   "cell_type": "code",
   "execution_count": 45,
   "metadata": {},
   "outputs": [
    {
     "data": {
      "image/png": "[encoded data removed]",
      "text/plain": [
       "<Figure size 432x288 with 1 Axes>"
      ]
     },
     "metadata": {
      "needs_background": "light"
     },
     "output_type": "display_data"
    }
   ],
   "source": [
    "rrp = reorder_result.plot(kind = 'bar', color = 'cyan', edgecolor = 'b',legend= False)\n",
    "rrp.set_ylabel(\"Reorder Ratio\")\n",
    "rrp.set_xlabel(\"Aisle Name\")\n",
    "rrp.yaxis.set_major_formatter(FuncFormatter(lambda y, _: '{:.0%}'.format(y)))\n",
    "rrp.xaxis.set_major_formatter(FuncFormatter(lambda x, _: fan(x)))"
   ]
  },
  {
   "cell_type": "code",
   "execution_count": null,
   "metadata": {},
   "outputs": [],
   "source": []
  }
 ],
 "metadata": {
  "kernelspec": {
   "display_name": "Python 3",
   "language": "python",
   "name": "python3"
  },
  "language_info": {
   "codemirror_mode": {
    "name": "ipython",
    "version": 3
   },
   "file_extension": ".py",
   "mimetype": "text/x-python",
   "name": "python",
   "nbconvert_exporter": "python",
   "pygments_lexer": "ipython3",
   "version": "3.7.4"
  }
 },
 "nbformat": 4,
 "nbformat_minor": 2
}
