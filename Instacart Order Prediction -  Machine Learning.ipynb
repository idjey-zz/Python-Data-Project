{
 "cells": [
  {
   "cell_type": "code",
   "execution_count": 1,
   "metadata": {},
   "outputs": [],
   "source": [
    "import pandas as pd\n",
    "import pyspark\n",
    "from pyspark.sql import SparkSession\n",
    "import matplotlib.pyplot as plt\n",
    "from matplotlib.ticker import FuncFormatter\n",
    "import math\n",
    "from pyspark.ml.regression import LinearRegression\n",
    "from pyspark.ml.linalg import Vectors\n",
    "from pyspark.ml.feature import VectorAssembler"
   ]
  },
  {
   "cell_type": "markdown",
   "metadata": {},
   "source": [
    "###### Using LinReg predict add-to-order ratio"
   ]
  },
  {
   "cell_type": "code",
   "execution_count": 2,
   "metadata": {},
   "outputs": [],
   "source": [
    "#Prepare DataFrame\n",
    "aisle = pd.read_csv('aisles.csv')\n",
    "departments = pd.read_csv('departments.csv')\n",
    "products = pd.read_csv('products.csv')\n",
    "orders = pd.read_csv('orders.csv')\n",
    "train = pd.read_csv('order_train.csv')"
   ]
  },
  {
   "cell_type": "code",
   "execution_count": 3,
   "metadata": {},
   "outputs": [],
   "source": [
    "#Spark Initiation\n",
    "spark = SparkSession.builder \\\n",
    "        .master(\"local[*]\") \\\n",
    "        .appName(\"InstacartData\") \\\n",
    "        .getOrCreate()"
   ]
  },
  {
   "cell_type": "code",
   "execution_count": 4,
   "metadata": {},
   "outputs": [],
   "source": [
    "df_aisle = spark.createDataFrame(aisle)\n",
    "df_departments = spark.createDataFrame(departments)\n",
    "df_products = spark.createDataFrame(products)\n",
    "df_orders = spark.createDataFrame(orders)\n",
    "df_train = spark.createDataFrame(train)"
   ]
  },
  {
   "cell_type": "code",
   "execution_count": 5,
   "metadata": {},
   "outputs": [
    {
     "name": "stdout",
     "output_type": "stream",
     "text": [
      "root\n",
      " |-- order_id: long (nullable = true)\n",
      " |-- product_id: long (nullable = true)\n",
      " |-- add_to_cart_order: long (nullable = true)\n",
      " |-- reordered: long (nullable = true)\n",
      "\n"
     ]
    }
   ],
   "source": [
    "df_train.printSchema()"
   ]
  },
  {
   "cell_type": "code",
   "execution_count": 6,
   "metadata": {},
   "outputs": [],
   "source": [
    "order_ratio = df_train.select('add_to_cart_order','reordered') \\\n",
    "            .groupBy('add_to_cart_order') \\\n",
    "            .agg({\"reordered\":\"mean\"}) \\\n",
    "            .withColumnRenamed('avg(reordered)','reorder_ratio') \\\n",
    "            .filter(df_train.add_to_cart_order < 50) \\\n",
    "            .sort('add_to_cart_order')\n",
    "co_result = order_ratio.toPandas()\n",
    "assembler = VectorAssembler(inputCols = [\"add_to_cart_order\"],\n",
    "                           outputCol=\"features\")\n",
    "output = assembler.transform(order_ratio)"
   ]
  },
  {
   "cell_type": "code",
   "execution_count": 7,
   "metadata": {},
   "outputs": [
    {
     "name": "stdout",
     "output_type": "stream",
     "text": [
      "Coefficients: [-0.006079664022656915]\n",
      "Intercept: 0.635881186938825\n"
     ]
    }
   ],
   "source": [
    "# Fit linear regression\n",
    "linreg = LinearRegression() \\\n",
    "  .setLabelCol(\"reorder_ratio\")\n",
    "lrModel = linreg.fit(output)\n",
    "\n",
    "print(\"Coefficients: %s\" % str(lrModel.coefficients))\n",
    "print(\"Intercept: %s\" % str(lrModel.intercept))"
   ]
  },
  {
   "cell_type": "code",
   "execution_count": 8,
   "metadata": {},
   "outputs": [
    {
     "data": {
      "image/png": "[encoded data removed]",
      "text/plain": [
       "<Figure size 432x288 with 1 Axes>"
      ]
     },
     "metadata": {
      "needs_background": "light"
     },
     "output_type": "display_data"
    }
   ],
   "source": [
    "co_plot = co_result.plot(x = 'add_to_cart_order', y = 'reorder_ratio', label = 'Real Value')\n",
    "prediction_values = [lrModel.coefficients * i + lrModel.intercept for i in co_result.add_to_cart_order]\n",
    "prediction = plt.plot(co_result.add_to_cart_order, prediction_values, label='Regression Prediction', linestyle='--')\n",
    "co_plot.set_ylabel(\"Reorder Ratio\")\n",
    "co_plot.set_xlabel(\"Add-to-Cart Order\")\n",
    "plt.legend(handles = prediction)\n",
    "co_plot.yaxis.set_major_formatter(FuncFormatter(lambda y, _: '{:.0%}'.format(y)))"
   ]
  },
  {
   "cell_type": "markdown",
   "metadata": {},
   "source": [
    "###### What aisles are frequenly bought together?"
   ]
  },
  {
   "cell_type": "code",
   "execution_count": 10,
   "metadata": {},
   "outputs": [],
   "source": [
    "aisle_order = df_train.join(df_products,df_products.product_id ==df_train.product_id) \\\n",
    "            .join(df_aisle, df_aisle.aisle_id == df_products.aisle_id) \\\n",
    "            .select(df_train.order_id, df_aisle.aisle) \\\n",
    "            .filter(\"aisle NOT LIKE '%fruits' AND aisle NOT LIKE '%vegetables'\") \\\n",
    "            .dropDuplicates() \\\n",
    "            .persist()"
   ]
  },
  {
   "cell_type": "code",
   "execution_count": 11,
   "metadata": {},
   "outputs": [
    {
     "name": "stdout",
     "output_type": "stream",
     "text": [
      "Transformation:\n",
      "+--------+------+\n",
      "|order_id| aisle|\n",
      "+--------+------+\n",
      "| 3236948|coffee|\n",
      "| 3334306|coffee|\n",
      "| 2833450|coffee|\n",
      "| 1807947|coffee|\n",
      "| 1328800|coffee|\n",
      "|    4468|coffee|\n",
      "| 3163338|coffee|\n",
      "| 2483455|coffee|\n",
      "| 1966767|coffee|\n",
      "|  761521|coffee|\n",
      "+--------+------+\n",
      "only showing top 10 rows\n",
      "\n"
     ]
    }
   ],
   "source": [
    "print(\"Transformation:\")\n",
    "aisle_order.show(10)"
   ]
  },
  {
   "cell_type": "code",
   "execution_count": 12,
   "metadata": {},
   "outputs": [],
   "source": [
    "transection = aisle_order.groupBy(aisle_order.order_id) \\\n",
    "              .agg({'aisle':'collect_list'}) \\\n",
    "              .withColumnRenamed('collect_list(aisle)','items') \\\n",
    "              .persist()"
   ]
  },
  {
   "cell_type": "code",
   "execution_count": 16,
   "metadata": {},
   "outputs": [
    {
     "name": "stdout",
     "output_type": "stream",
     "text": [
      "After Transformation :\n",
      "+--------+----------------------------------------------------------------------------------------------------+\n",
      "|order_id|                                                                                               items|\n",
      "+--------+----------------------------------------------------------------------------------------------------+\n",
      "|    3091|                                                     [nuts seeds dried fruit, tea, breakfast bakery]|\n",
      "|    4590|     [energy granola bars, frozen meals, fresh dips tapenades, trail mix snack mix, packaged cheese]|\n",
      "|   10156|[packaged cheese, yogurt, pasta sauce, breakfast bakery, frozen vegan vegetarian, dry pasta, soy ...|\n",
      "|   13248|[soup broth bouillon, pasta sauce, tea, cereal, frozen meals, fresh dips tapenades, frozen appeti...|\n",
      "|   16530|                      [refrigerated, asian foods, juice nectars, fresh herbs, prepared soups salads]|\n",
      "+--------+----------------------------------------------------------------------------------------------------+\n",
      "only showing top 5 rows\n",
      "\n"
     ]
    }
   ],
   "source": [
    "print(\"After Transformation :\")\n",
    "transection.show(5, truncate=100)"
   ]
  },
  {
   "cell_type": "code",
   "execution_count": 22,
   "metadata": {},
   "outputs": [],
   "source": [
    "from pyspark.ml.fpm import FPGrowth\n",
    "\n",
    "fpGrowth = FPGrowth(itemsCol = \"items\", minSupport=0.05, minConfidence = 0)\n",
    "model = fpGrowth.fit(transection)"
   ]
  },
  {
   "cell_type": "code",
   "execution_count": 23,
   "metadata": {},
   "outputs": [
    {
     "name": "stdout",
     "output_type": "stream",
     "text": [
      "+------------------------------------------------+-----+\n",
      "|                                           items| freq|\n",
      "+------------------------------------------------+-----+\n",
      "|                                        [yogurt]|33249|\n",
      "|                               [packaged cheese]|31199|\n",
      "|                       [packaged cheese, yogurt]|11548|\n",
      "|                                          [milk]|29358|\n",
      "|                         [milk, packaged cheese]|10013|\n",
      "|                                  [milk, yogurt]|11414|\n",
      "|                 [water seltzer sparkling water]|26943|\n",
      "|[water seltzer sparkling water, packaged cheese]| 6944|\n",
      "|         [water seltzer sparkling water, yogurt]| 7632|\n",
      "|                                [chips pretzels]|23182|\n",
      "|               [chips pretzels, packaged cheese]| 7994|\n",
      "|                        [chips pretzels, yogurt]| 7638|\n",
      "|                               [soy lactosefree]|22373|\n",
      "|                       [soy lactosefree, yogurt]| 7680|\n",
      "|                                         [bread]|21488|\n",
      "|                                   [bread, milk]| 7481|\n",
      "|                        [bread, packaged cheese]| 8059|\n",
      "|                                 [bread, yogurt]| 7958|\n",
      "|                                          [eggs]|19348|\n",
      "|                         [eggs, packaged cheese]| 6729|\n",
      "+------------------------------------------------+-----+\n",
      "only showing top 20 rows\n",
      "\n"
     ]
    }
   ],
   "source": [
    "model.freqItemsets.show(truncate=100) #Display frequent items"
   ]
  },
  {
   "cell_type": "code",
   "execution_count": 25,
   "metadata": {},
   "outputs": [
    {
     "name": "stdout",
     "output_type": "stream",
     "text": [
      "+-------------------------------+-------------------------------+-------------------+------------------+\n",
      "|                     antecedent|                     consequent|         confidence|              lift|\n",
      "+-------------------------------+-------------------------------+-------------------+------------------+\n",
      "|                   [lunch meat]|              [packaged cheese]|0.45711678832116787|1.8886268229166057|\n",
      "|                         [milk]|                       [yogurt]|0.38878670209142313|1.5072749097112281|\n",
      "|                        [bread]|              [packaged cheese]| 0.3750465376023827|1.5495448184243834|\n",
      "|                        [bread]|                       [yogurt]| 0.3703462397617275|1.4357836625993623|\n",
      "|              [packaged cheese]|                       [yogurt]|0.37014006859194204| 1.434984364090304|\n",
      "|                         [eggs]|                       [yogurt]| 0.3622079801529874|1.4042327004625816|\n",
      "|                        [bread]|                         [milk]|0.34814780342516755| 1.528610537404147|\n",
      "|                         [eggs]|              [packaged cheese]| 0.3477878850527186|1.4369227846746864|\n",
      "|                       [yogurt]|              [packaged cheese]| 0.3473187163523715| 1.434984364090304|\n",
      "|               [chips pretzels]|              [packaged cheese]|0.34483651108618757|1.4247288679775554|\n",
      "|                       [yogurt]|                         [milk]|0.34328851995548737|1.5072749097112281|\n",
      "|              [soy lactosefree]|                       [yogurt]|0.34327090689670586|1.3308161581039784|\n",
      "|                         [milk]|              [packaged cheese]|0.34106546767490975|1.4091483994432905|\n",
      "|               [chips pretzels]|                       [yogurt]|0.32947976878612717|  1.27734972949771|\n",
      "|              [packaged cheese]|                         [milk]| 0.3209397737106959|1.4091483994432905|\n",
      "|[water seltzer sparkling water]|                       [yogurt]|0.28326466985859033|1.0981798692926708|\n",
      "|              [packaged cheese]|                        [bread]|0.25830956120388476|1.5495448184243836|\n",
      "|[water seltzer sparkling water]|              [packaged cheese]|0.25772928033255393|1.0648360426112013|\n",
      "|              [packaged cheese]|               [chips pretzels]|0.25622616109490687|1.4247288679775554|\n",
      "|                         [milk]|                        [bread]|0.25481981061380204| 1.528610537404147|\n",
      "|                       [yogurt]|                        [bread]|0.23934554422689405|1.4357836625993623|\n",
      "|                       [yogurt]|              [soy lactosefree]| 0.2309843905079852|1.3308161581039784|\n",
      "|                       [yogurt]|               [chips pretzels]|0.22972119462239465|  1.27734972949771|\n",
      "|                       [yogurt]|[water seltzer sparkling water]| 0.2295407380673103|1.0981798692926708|\n",
      "|              [packaged cheese]|[water seltzer sparkling water]|0.22257123625757236|1.0648360426112011|\n",
      "|              [packaged cheese]|                         [eggs]|  0.215679989743261|1.4369227846746864|\n",
      "|                       [yogurt]|                         [eggs]| 0.2107732563385365|1.4042327004625819|\n",
      "|              [packaged cheese]|                   [lunch meat]|0.20875669091958077|1.8886268229166059|\n",
      "+-------------------------------+-------------------------------+-------------------+------------------+\n",
      "\n"
     ]
    }
   ],
   "source": [
    "#Show generated association rules\n",
    "model.associationRules.sort('confidence', ascending = False).show(50, truncate=100)"
   ]
  },
  {
   "cell_type": "code",
   "execution_count": null,
   "metadata": {},
   "outputs": [],
   "source": []
  }
 ],
 "metadata": {
  "kernelspec": {
   "display_name": "Python 3",
   "language": "python",
   "name": "python3"
  },
  "language_info": {
   "codemirror_mode": {
    "name": "ipython",
    "version": 3
   },
   "file_extension": ".py",
   "mimetype": "text/x-python",
   "name": "python",
   "nbconvert_exporter": "python",
   "pygments_lexer": "ipython3",
   "version": "3.7.4"
  }
 },
 "nbformat": 4,
 "nbformat_minor": 2
}
